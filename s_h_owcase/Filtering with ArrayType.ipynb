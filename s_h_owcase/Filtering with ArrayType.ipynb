{
 "cells": [
  {
   "cell_type": "markdown",
   "metadata": {},
   "source": [
    "# 0. Abstract\n",
    "\n",
    "The purpose of this notebook is to explore on arrayType filtering to replace wildcard filtering. We desire this because this might enhance the performance of our algorithms against a large set of cutomer table and offer table."
   ]
  },
  {
   "cell_type": "markdown",
   "metadata": {},
   "source": [
    "# 1. Random Table Generator"
   ]
  },
  {
   "cell_type": "code",
   "execution_count": 1,
   "metadata": {},
   "outputs": [
    {
     "data": {
      "text/plain": [
       "defined trait Dummy_Data_Generator\n"
      ]
     },
     "metadata": {},
     "output_type": "display_data"
    }
   ],
   "source": [
    "import scala.util.Random\n",
    "import math.{ round, min, max }\n",
    "\n",
    "trait Dummy_Data_Generator extends Serializable {\n",
    "    \n",
    "    /**\n",
    "     * Simulate a double of range 0 (inclusive) to `value` (exclusive).\n",
    "     */\n",
    "    def random_double(\n",
    "        rand: Random = new Random, \n",
    "        value: Double = 1): Double = {\n",
    "        rand.nextDouble * value\n",
    "    }\n",
    "    \n",
    "    /**\n",
    "     * Randomly select some items (size less than or equal to `max_item` but greater than or\n",
    "     * equal to `min_item`) from the given array and output a string with items seperated\n",
    "     * by `sep`.\n",
    "     */\n",
    "    def random_array_to_string[T](\n",
    "        rand: Random = new Random, \n",
    "        array: Array[T],\n",
    "        min_item: Int = 1,\n",
    "        max_item: Int = 3,\n",
    "        sep: String = \",\",\n",
    "        duplicate: Boolean = false,\n",
    "        prob_array: Array[Double] = Array()): String = {\n",
    "        \n",
    "      if(array.isEmpty)\n",
    "        throw new Exception(\"Invalid configuration: simulate from empty array\")\n",
    "      else if (prob_array.length != array.length && !prob_array.isEmpty)\n",
    "        throw new Exception(\"Invalid configuration: different length of prob_array and array.\")\n",
    "      else {     \n",
    "        val len: Int = array.length\n",
    "        \n",
    "        // Declare output variable.\n",
    "        var output = \"\" + sep  \n",
    "          \n",
    "        // If prob_array is not provided, then assume equal probability for each item.\n",
    "        lazy val prob_each: Double = 1.0 / len \n",
    "        val probArray: Array[Double] = \n",
    "          if (prob_array.isEmpty) array.map(x => prob_each) else prob_array\n",
    "        \n",
    "        // Number of items that will be in the list\n",
    "        var num = max(min(rand.nextInt(len), max_item), min_item)\n",
    "          \n",
    "        // Tail recursive method of simulating from `array`.\n",
    "        def gen[T](array: Array[T], probArray: Array[Double], sim: Double): T = {\n",
    "          if (array.length == 1 || sim <= probArray.head)\n",
    "            array.head\n",
    "          else\n",
    "            gen(array.tail, probArray.tail, sim - probArray.head)        \n",
    "        }\n",
    "        \n",
    "        // Simulate a random double from 0 (inclusive) to `probArray.sum` (exclusive).\n",
    "        var sim = 0.5\n",
    "          \n",
    "        // Generate the output list  \n",
    "        while (num > 0) {\n",
    "            sim = random_double(rand, probArray.sum)\n",
    "            output = output + \n",
    "                gen(array.tail, probArray.tail, sim - probArray.head).toString + sep\n",
    "            num = num - 1\n",
    "        }\n",
    "        \n",
    "        // Remove the first and last element of the output, which are `sep`'s.\n",
    "        output.drop(1).dropRight(1)\n",
    "      }\n",
    "    }\n",
    "    \n",
    "}"
   ]
  },
  {
   "cell_type": "code",
   "execution_count": 2,
   "metadata": {},
   "outputs": [
    {
     "data": {
      "text/plain": [
       "defined class Dummy_Table_Generator\n"
      ]
     },
     "metadata": {},
     "output_type": "display_data"
    }
   ],
   "source": [
    "import org.apache.spark.{ SparkConf, SparkContext }\n",
    "import org.apache.spark.sql.{ SparkSession, SQLContext, Row }\n",
    "import org.apache.spark.sql.types._\n",
    "import org.apache.spark.sql.functions._\n",
    "import scala.util.Random \n",
    "\n",
    "class Dummy_Table_Generator(spark: SparkSession, rand: Random) extends Dummy_Data_Generator {\n",
    "    \n",
    "  // Generate sparkContext from sparkSession.\n",
    "  val sc = spark.sparkContext\n",
    "    \n",
    "  /**\n",
    "   * Simulate a random table with `num_row` rows according to `col_schema` and `col_map`.\n",
    "   */\n",
    "  def random_table(num_row: Int, col_schema: Array[StructField], col_map: Int => Row) = {\n",
    "    import spark.implicits._\n",
    "      \n",
    "    val rdd = sc.makeRDD(Range(1, num_row + 1).map(col_map))\n",
    "    spark.createDataFrame(rdd, StructType(col_schema))\n",
    "    }\n",
    "\n",
    "}"
   ]
  },
  {
   "cell_type": "code",
   "execution_count": 3,
   "metadata": {},
   "outputs": [
    {
     "data": {
      "text/plain": [
       "spark = org.apache.spark.sql.SparkSession@5903a2ed\n",
       "rand = scala.util.Random@3a18734d\n",
       "table_gen = Dummy_Table_Generator@1380916e\n"
      ]
     },
     "metadata": {},
     "output_type": "display_data"
    },
    {
     "data": {
      "text/plain": [
       "Dummy_Table_Generator@1380916e"
      ]
     },
     "execution_count": 3,
     "metadata": {},
     "output_type": "execute_result"
    }
   ],
   "source": [
    "// Set up a SparkSession object.\n",
    "val spark = SparkSession.builder\n",
    "  .master(\"local[*]\")\n",
    "  .appName(\"Dummy Table Generator Example 1\")\n",
    "  .config(\"spark.some.config.option\", \"some-value\")\n",
    "  .getOrCreate()\n",
    "\n",
    "import spark.implicits._\n",
    "\n",
    "// Set seed for random number generator.\n",
    "val rand = new Random(588)\n",
    "\n",
    "// Table generator\n",
    "val table_gen = new Dummy_Table_Generator(spark, rand)"
   ]
  },
  {
   "cell_type": "markdown",
   "metadata": {},
   "source": [
    "# 2. Customer Table"
   ]
  },
  {
   "cell_type": "code",
   "execution_count": 4,
   "metadata": {},
   "outputs": [
    {
     "name": "stdout",
     "output_type": "stream",
     "text": [
      "+-------+-----------+\n",
      "|Cust_ID|Cust_Desc  |\n",
      "+-------+-----------+\n",
      "|100001 |L2,L20,L27 |\n",
      "|100002 |L9,L30,L17 |\n",
      "|100003 |L27,L3,L4  |\n",
      "|100004 |L21,L26,L6 |\n",
      "|100005 |L21,L17,L13|\n",
      "|100006 |L8,L15,L3  |\n",
      "|100007 |L16,L10,L5 |\n",
      "|100008 |L3,L3,L9   |\n",
      "|100009 |L28,L30,L22|\n",
      "|100010 |L17,L19,L29|\n",
      "+-------+-----------+\n",
      "\n"
     ]
    },
    {
     "data": {
      "text/plain": [
       "descList = Array(L1, L2, L3, L4, L5, L6, L7, L8, L9, L10, L11, L12, L13, L14, L15, L16, L17, L18, L19, L20, L21, L22, L23, L24, L25, L26, L27, L28, L29, L30)\n",
       "custColSchema = Array(StructField(Cust_ID,IntegerType,true), StructField(Cust_Desc,StringType,true))\n",
       "custColMap = > org.apache.spark.sql.Row = <function1>\n",
       "customer = [Cust_ID: int, Cust_Desc: string]\n"
      ]
     },
     "metadata": {},
     "output_type": "display_data"
    },
    {
     "data": {
      "text/plain": [
       "[Cust_ID: int, Cust_Desc: string]"
      ]
     },
     "execution_count": 4,
     "metadata": {},
     "output_type": "execute_result"
    }
   ],
   "source": [
    "// List of customer descriptions\n",
    "val descList: Array[String] = Array(\"L1\", \"L2\", \"L3\", \"L4\", \"L5\", \"L6\", \"L7\", \"L8\", \"L9\", \"L10\",\n",
    "                     \"L11\", \"L12\", \"L13\", \"L14\", \"L15\", \"L16\", \"L17\", \"L18\", \"L19\", \"L20\",\n",
    "                     \"L21\", \"L22\", \"L23\", \"L24\", \"L25\", \"L26\", \"L27\", \"L28\", \"L29\", \"L30\")\n",
    "\n",
    "// Column schema for the customer table.\n",
    "val custColSchema = Array(\n",
    "    StructField(\"Cust_ID\", IntegerType, true),\n",
    "    StructField(\"Cust_Desc\", StringType, true))\n",
    "\n",
    "// Column mapping for the customer table.\n",
    "val custColMap = (x: Int) => Row(\n",
    "    100000 + x,\n",
    "    table_gen.random_array_to_string(rand, descList, 0, 3))\n",
    "\n",
    "// The customer table.\n",
    "val customer = table_gen.random_table(10, custColSchema, custColMap)\n",
    "\n",
    "customer.show(false)"
   ]
  },
  {
   "cell_type": "markdown",
   "metadata": {},
   "source": [
    "# 3. Offer Table"
   ]
  },
  {
   "cell_type": "code",
   "execution_count": 5,
   "metadata": {},
   "outputs": [
    {
     "name": "stdout",
     "output_type": "stream",
     "text": [
      "+--------+--------------------+\n",
      "|Offer_ID|Cust_Desc_from_Offer|\n",
      "+--------+--------------------+\n",
      "|1001    |L30,L25             |\n",
      "|1002    |L4,L16              |\n",
      "|1003    |L16,L26             |\n",
      "|1004    |L15                 |\n",
      "|1005    |L29,L29             |\n",
      "|1006    |L9,L2               |\n",
      "|1007    |L28,L4              |\n",
      "|1008    |L8,L8               |\n",
      "|1009    |L27,L2              |\n",
      "|1010    |L21                 |\n",
      "+--------+--------------------+\n",
      "\n"
     ]
    },
    {
     "data": {
      "text/plain": [
       "offerColSchema = Array(StructField(Offer_ID,IntegerType,true), StructField(Cust_Desc_from_Offer,StringType,true))\n",
       "offerColMap = > org.apache.spark.sql.Row = <function1>\n",
       "offer = [Offer_ID: int, Cust_Desc_from_Offer: string]\n"
      ]
     },
     "metadata": {},
     "output_type": "display_data"
    },
    {
     "data": {
      "text/plain": [
       "[Offer_ID: int, Cust_Desc_from_Offer: string]"
      ]
     },
     "execution_count": 5,
     "metadata": {},
     "output_type": "execute_result"
    }
   ],
   "source": [
    "// Offer schema for the offer table.\n",
    "val offerColSchema = Array(\n",
    "    StructField(\"Offer_ID\", IntegerType, true),\n",
    "    StructField(\"Cust_Desc_from_Offer\", StringType, true))\n",
    "\n",
    "// Offer mapping for the offer table.\n",
    "val offerColMap = (x: Int) => Row(\n",
    "    1000 + x,\n",
    "    table_gen.random_array_to_string(rand, descList, 1, 2))\n",
    "\n",
    "// The offer table.\n",
    "val offer = table_gen.random_table(10, offerColSchema, offerColMap)\n",
    "\n",
    "offer.show(false)"
   ]
  },
  {
   "cell_type": "markdown",
   "metadata": {},
   "source": [
    "# 4. Wildcard Filter"
   ]
  },
  {
   "cell_type": "code",
   "execution_count": 6,
   "metadata": {},
   "outputs": [
    {
     "data": {
      "text/plain": [
       "custDescIntersectWildcard = UserDefinedFunction(<function2>,BooleanType,Some(List(StringType, StringType)))\n"
      ]
     },
     "metadata": {},
     "output_type": "display_data"
    },
    {
     "data": {
      "text/plain": [
       "UserDefinedFunction(<function2>,BooleanType,Some(List(StringType, StringType)))"
      ]
     },
     "execution_count": 6,
     "metadata": {},
     "output_type": "execute_result"
    }
   ],
   "source": [
    "// User defined function to check intersection.\n",
    "val custDescIntersectWildcard = udf {\n",
    "    (str1: String, str2: String) => \n",
    "        var output: Boolean = str1.isEmpty\n",
    "        val str1Updated = \",\" + str1 + \",\"\n",
    "        for (s <- str2.split(\"\\\\,\")) {\n",
    "            output = output || (str1Updated contains (\",\" + s + \",\"))\n",
    "        }\n",
    "        output\n",
    "}"
   ]
  },
  {
   "cell_type": "code",
   "execution_count": 7,
   "metadata": {},
   "outputs": [
    {
     "name": "stdout",
     "output_type": "stream",
     "text": [
      "+-------+-----------+--------+--------------------+\n",
      "|Cust_ID|Cust_Desc  |Offer_ID|Cust_Desc_from_Offer|\n",
      "+-------+-----------+--------+--------------------+\n",
      "|100002 |L9,L30,L17 |1001    |L30,L25             |\n",
      "|100001 |L2,L20,L27 |1006    |L9,L2               |\n",
      "|100002 |L9,L30,L17 |1006    |L9,L2               |\n",
      "|100001 |L2,L20,L27 |1009    |L27,L2              |\n",
      "|100003 |L27,L3,L4  |1002    |L4,L16              |\n",
      "|100004 |L21,L26,L6 |1003    |L16,L26             |\n",
      "|100003 |L27,L3,L4  |1007    |L28,L4              |\n",
      "|100003 |L27,L3,L4  |1009    |L27,L2              |\n",
      "|100004 |L21,L26,L6 |1010    |L21                 |\n",
      "|100005 |L21,L17,L13|1010    |L21                 |\n",
      "|100007 |L16,L10,L5 |1002    |L4,L16              |\n",
      "|100006 |L8,L15,L3  |1004    |L15                 |\n",
      "|100007 |L16,L10,L5 |1003    |L16,L26             |\n",
      "|100006 |L8,L15,L3  |1008    |L8,L8               |\n",
      "|100009 |L28,L30,L22|1001    |L30,L25             |\n",
      "|100010 |L17,L19,L29|1005    |L29,L29             |\n",
      "|100008 |L3,L3,L9   |1006    |L9,L2               |\n",
      "|100009 |L28,L30,L22|1007    |L28,L4              |\n",
      "+-------+-----------+--------+--------------------+\n",
      "\n"
     ]
    },
    {
     "data": {
      "text/plain": [
       "tgtWildcard = [Cust_ID: int, Cust_Desc: string ... 2 more fields]\n"
      ]
     },
     "metadata": {},
     "output_type": "display_data"
    },
    {
     "data": {
      "text/plain": [
       "[Cust_ID: int, Cust_Desc: string ... 2 more fields]"
      ]
     },
     "execution_count": 7,
     "metadata": {},
     "output_type": "execute_result"
    }
   ],
   "source": [
    "val tgtWildcard = customer.crossJoin(offer)\n",
    "    .where(custDescIntersectWildcard($\"Cust_Desc\", $\"Cust_Desc_from_Offer\"))\n",
    "    \n",
    "tgtWildcard.show(false)"
   ]
  },
  {
   "cell_type": "markdown",
   "metadata": {},
   "source": [
    "# 5. ArrayType Filter"
   ]
  },
  {
   "cell_type": "code",
   "execution_count": 8,
   "metadata": {},
   "outputs": [
    {
     "name": "stdout",
     "output_type": "stream",
     "text": [
      "+-------+-----------+---------------+\n",
      "|Cust_ID|Cust_Desc  |Cust_Desc_Array|\n",
      "+-------+-----------+---------------+\n",
      "|100001 |L2,L20,L27 |[L2, L20, L27] |\n",
      "|100002 |L9,L30,L17 |[L9, L30, L17] |\n",
      "|100003 |L27,L3,L4  |[L27, L3, L4]  |\n",
      "|100004 |L21,L26,L6 |[L21, L26, L6] |\n",
      "|100005 |L21,L17,L13|[L21, L17, L13]|\n",
      "|100006 |L8,L15,L3  |[L8, L15, L3]  |\n",
      "|100007 |L16,L10,L5 |[L16, L10, L5] |\n",
      "|100008 |L3,L3,L9   |[L3, L3, L9]   |\n",
      "|100009 |L28,L30,L22|[L28, L30, L22]|\n",
      "|100010 |L17,L19,L29|[L17, L19, L29]|\n",
      "+-------+-----------+---------------+\n",
      "\n"
     ]
    }
   ],
   "source": [
    "// Demonstration of arrayType in Spark Dataframe\n",
    "customer.withColumn(\"Cust_Desc_Array\", split(col(\"Cust_Desc\"), \"\\\\,\")).show(false)"
   ]
  },
  {
   "cell_type": "code",
   "execution_count": 9,
   "metadata": {},
   "outputs": [
    {
     "data": {
      "text/plain": [
       "custDescIntersect = UserDefinedFunction(<function2>,BooleanType,Some(List(ArrayType(StringType,true), ArrayType(StringType,true))))\n"
      ]
     },
     "metadata": {},
     "output_type": "display_data"
    },
    {
     "data": {
      "text/plain": [
       "UserDefinedFunction(<function2>,BooleanType,Some(List(ArrayType(StringType,true), ArrayType(StringType,true))))"
      ]
     },
     "execution_count": 9,
     "metadata": {},
     "output_type": "execute_result"
    }
   ],
   "source": [
    "import scala.collection.mutable.WrappedArray\n",
    "\n",
    "// User defined function to check intersection.\n",
    "val custDescIntersect = udf {\n",
    "    (dfArray1: WrappedArray[String], dfArray2: WrappedArray[String]) => \n",
    "        (dfArray1.head == \"\" || (dfArray1.toSet.intersect(dfArray2.toSet)).size > 0)\n",
    "}\n",
    "\n",
    "/* Comments\n",
    " * All of the first array will be enumerated, so we should put the shorter array as array1.\n",
    " */"
   ]
  },
  {
   "cell_type": "code",
   "execution_count": 10,
   "metadata": {},
   "outputs": [
    {
     "name": "stdout",
     "output_type": "stream",
     "text": [
      "+-------+----------+--------+--------------------+---------+\n",
      "|Cust_ID|Cust_Desc |Offer_ID|Cust_Desc_from_Offer|Intersect|\n",
      "+-------+----------+--------+--------------------+---------+\n",
      "|100001 |L2,L20,L27|1001    |L30,L25             |false    |\n",
      "|100001 |L2,L20,L27|1002    |L4,L16              |false    |\n",
      "|100001 |L2,L20,L27|1003    |L16,L26             |false    |\n",
      "|100001 |L2,L20,L27|1004    |L15                 |false    |\n",
      "|100001 |L2,L20,L27|1005    |L29,L29             |false    |\n",
      "|100001 |L2,L20,L27|1006    |L9,L2               |true     |\n",
      "|100001 |L2,L20,L27|1007    |L28,L4              |false    |\n",
      "|100001 |L2,L20,L27|1008    |L8,L8               |false    |\n",
      "|100001 |L2,L20,L27|1009    |L27,L2              |true     |\n",
      "|100001 |L2,L20,L27|1010    |L21                 |false    |\n",
      "|100002 |L9,L30,L17|1001    |L30,L25             |true     |\n",
      "|100002 |L9,L30,L17|1002    |L4,L16              |false    |\n",
      "|100002 |L9,L30,L17|1003    |L16,L26             |false    |\n",
      "|100002 |L9,L30,L17|1004    |L15                 |false    |\n",
      "|100002 |L9,L30,L17|1005    |L29,L29             |false    |\n",
      "|100002 |L9,L30,L17|1006    |L9,L2               |true     |\n",
      "|100002 |L9,L30,L17|1007    |L28,L4              |false    |\n",
      "|100002 |L9,L30,L17|1008    |L8,L8               |false    |\n",
      "|100002 |L9,L30,L17|1009    |L27,L2              |false    |\n",
      "|100002 |L9,L30,L17|1010    |L21                 |false    |\n",
      "+-------+----------+--------+--------------------+---------+\n",
      "only showing top 20 rows\n",
      "\n"
     ]
    },
    {
     "data": {
      "text/plain": [
       "tgtArrayType = [Cust_ID: int, Cust_Desc: string ... 5 more fields]\n"
      ]
     },
     "metadata": {},
     "output_type": "display_data"
    },
    {
     "data": {
      "text/plain": [
       "[Cust_ID: int, Cust_Desc: string ... 5 more fields]"
      ]
     },
     "execution_count": 10,
     "metadata": {},
     "output_type": "execute_result"
    }
   ],
   "source": [
    "// Find intersection.\n",
    "val tgtArrayType = \n",
    "  customer.withColumn(\"Cust_Desc_Array\", split(col(\"Cust_Desc\"), \"\\\\,\"))\n",
    "    .crossJoin(offer.withColumn(\"Cust_Desc_Offer_Array\",\n",
    "                                split(col(\"Cust_Desc_from_Offer\"), \"\\\\,\")))\n",
    "    .withColumn(\"Intersect\", custDescIntersect($\"Cust_Desc_Array\", $\"Cust_Desc_Offer_Array\"))\n",
    "\n",
    "tgtArrayType.selectExpr(\n",
    "    \"Cust_ID\",\n",
    "    \"Cust_Desc\",\n",
    "    \"Offer_ID\",\n",
    "    \"Cust_Desc_from_Offer\",\n",
    "    \"Intersect\").orderBy(\"Cust_ID\", \"Offer_ID\").show(20, false)"
   ]
  },
  {
   "cell_type": "markdown",
   "metadata": {},
   "source": [
    "# 6. MapType Filter"
   ]
  },
  {
   "cell_type": "code",
   "execution_count": 11,
   "metadata": {},
   "outputs": [
    {
     "name": "stdout",
     "output_type": "stream",
     "text": [
      "+--------+--------------------+---------------------+\n",
      "|Offer_ID|Cust_Desc_from_Offer|Cust_Desc_Offer_Array|\n",
      "+--------+--------------------+---------------------+\n",
      "|1001    |L30,L25             |[L30, L25]           |\n",
      "+--------+--------------------+---------------------+\n",
      "\n"
     ]
    },
    {
     "data": {
      "text/plain": [
       "LnOffer: Unit = ()\n"
      ]
     },
     "metadata": {},
     "output_type": "display_data"
    }
   ],
   "source": [
    "// Offers in the Ln list.\n",
    "val LnOffer = offer\n",
    "    .withColumn(\"Cust_Desc_Offer_Array\",\n",
    "                split(col(\"Cust_Desc_from_Offer\"), \"\\\\,\"))\n",
    "    .where(array_contains(col(\"Cust_Desc_Offer_Array\"), \"L30\"))\n",
    "    .show(false)\n",
    "\n",
    "// Need a way to automates this."
   ]
  },
  {
   "cell_type": "code",
   "execution_count": 12,
   "metadata": {},
   "outputs": [
    {
     "data": {
      "text/plain": [
       "allOffer = Array(1005, 1008, 1010, 1002, 1001, 1006, 1007, 1003, 1004, 1009)\n",
       "offerListMap = Map(L8 -> Array(1008), \"\" -> Array(L1, L2, L3, L4, L5, L6, L7, L8, L9, L10, L11, L12, L13, L14, L15, L16, L17, L18, L19, L20, L21, L22, L23, L24, L25, L26, L27, L28, L29, L30), L19 -> Array(), L27 -> Array(1009), L1 -> Array(), L16 -> Array(1002, 1003), L15 -> Array(1004), L26 -> Array(1003), L22 -> Array(), L5 -> Array(), L25 -> Array(1001), L14 -> Array(), L4 -> Array(1002, 1007), L21 -> Array(1010), L9 -> Array(1006), L10 -> Array(), L17 -> Array(), L20 -> Array(), L6 -> Array(), L24 -> Array(), L29 -> Array(1005), L13 -> Array(), L3 -> Array(), L7 -> Array(), L12 -> Array(), L30 -> Array(1001), L23 -> Array(), L2 -> Array(1006, 1009), L18 -> Array(), ...\n"
      ]
     },
     "metadata": {},
     "output_type": "display_data"
    },
    {
     "data": {
      "text/plain": [
       "Map(L8 -> Array(1008), \"\" -> Array(L1, L2, L3, L4, L5, L6, L7, L8, L9, L10, L11, L12, L13, L14, L15, L16, L17, L18, L19, L20, L21, L22, L23, L24, L25, L26, L27, L28, L29, L30), L19 -> Array(), L27 -> Array(1009), L1 -> Array(), L16 -> Array(1002, 1003), L15 -> Array(1004), L26 -> Array(1003), L22 -> Array(), L5 -> Array(), L25 -> Array(1001), L14 -> Array(), L4 -> Array(1002, 1007), L21 -> Array(1010), L9 -> Array(1006), L10 -> Array(), L17 -> Array(), L20 -> Array(), L6 -> Array(), L24 -> Array(), L29 -> Array(1005), L13 -> Array(), L3 -> Array(), L7 -> Array(), L12 -> Array(), L30 -> Array(1001), L23 -> Array(), L2 -> Array(1006, 1009), L18 -> Array(), ..."
      ]
     },
     "execution_count": 12,
     "metadata": {},
     "output_type": "execute_result"
    }
   ],
   "source": [
    "val allOffer: Array[String] = offer.select(\"Offer_ID\").distinct.collect\n",
    "    .map(x => x.toString.drop(1).dropRight(1))\n",
    "\n",
    "val offerListMap: Map[String, Array[String]] = Map(\n",
    "    \"L1\" -> Array[String](),\n",
    "    \"L2\" -> Array[String](\"1006\", \"1009\"),\n",
    "    \"L3\" -> Array[String](),\n",
    "    \"L4\" -> Array[String](\"1002\", \"1007\"),\n",
    "    \"L5\" -> Array[String](),\n",
    "    \"L6\" -> Array[String](),\n",
    "    \"L7\" -> Array[String](),\n",
    "    \"L8\" -> Array[String](\"1008\"),\n",
    "    \"L9\" -> Array[String](\"1006\"),\n",
    "    \"L10\" -> Array[String](),\n",
    "    \"L12\" -> Array[String](),\n",
    "    \"L13\" -> Array[String](),\n",
    "    \"L14\" -> Array[String](),\n",
    "    \"L15\" -> Array[String](\"1004\"),\n",
    "    \"L16\" -> Array[String](\"1002\", \"1003\"),\n",
    "    \"L17\" -> Array[String](),\n",
    "    \"L18\" -> Array[String](),\n",
    "    \"L19\" -> Array[String](),\n",
    "    \"L20\" -> Array[String](),\n",
    "    \"L21\" -> Array[String](\"1010\"),\n",
    "    \"L22\" -> Array[String](),\n",
    "    \"L23\" -> Array[String](),\n",
    "    \"L24\" -> Array[String](),\n",
    "    \"L25\" -> Array[String](\"1001\"),\n",
    "    \"L26\" -> Array[String](\"1003\"),\n",
    "    \"L27\" -> Array[String](\"1009\"),\n",
    "    \"L28\" -> Array[String](\"1007\"),\n",
    "    \"L29\" -> Array[String](\"1005\"),\n",
    "    \"L30\" -> Array[String](\"1001\"),\n",
    "    \"\" -> descList) \n",
    "\n",
    "def listOfferMap(dfMap: Map[String, Array[String]]) = udf (\n",
    "    (str: String) => {\n",
    "            str.split(\"\\\\,\").flatMap(x => dfMap.getOrElse(x, Array[String](\"NULL\"))).distinct\n",
    "    }\n",
    ")"
   ]
  },
  {
   "cell_type": "code",
   "execution_count": 13,
   "metadata": {},
   "outputs": [
    {
     "name": "stdout",
     "output_type": "stream",
     "text": [
      "+-------+-----------+------------------+\n",
      "|Cust_ID|Cust_Desc  |Offers_Linked     |\n",
      "+-------+-----------+------------------+\n",
      "|100001 |L2,L20,L27 |[1006, 1009]      |\n",
      "|100002 |L9,L30,L17 |[1006, 1001]      |\n",
      "|100003 |L27,L3,L4  |[1009, 1002, 1007]|\n",
      "|100004 |L21,L26,L6 |[1010, 1003]      |\n",
      "|100005 |L21,L17,L13|[1010]            |\n",
      "|100006 |L8,L15,L3  |[1008, 1004]      |\n",
      "|100007 |L16,L10,L5 |[1002, 1003]      |\n",
      "|100008 |L3,L3,L9   |[1006]            |\n",
      "|100009 |L28,L30,L22|[1007, 1001]      |\n",
      "|100010 |L17,L19,L29|[1005]            |\n",
      "+-------+-----------+------------------+\n",
      "\n"
     ]
    },
    {
     "data": {
      "text/plain": [
       "tgtMapType = [Cust_ID: int, Cust_Desc: string ... 1 more field]\n"
      ]
     },
     "metadata": {},
     "output_type": "display_data"
    },
    {
     "data": {
      "text/plain": [
       "[Cust_ID: int, Cust_Desc: string ... 1 more field]"
      ]
     },
     "execution_count": 13,
     "metadata": {},
     "output_type": "execute_result"
    }
   ],
   "source": [
    "val tgtMapType = customer.select(\n",
    "    $\"Cust_ID\", \n",
    "    $\"Cust_Desc\", \n",
    "    listOfferMap(offerListMap)($\"Cust_Desc\") as \"Offers_Linked\")\n",
    "\n",
    "tgtMapType.show(false)"
   ]
  },
  {
   "cell_type": "code",
   "execution_count": 14,
   "metadata": {},
   "outputs": [
    {
     "name": "stdout",
     "output_type": "stream",
     "text": [
      "+-------+-----------+-------------+--------+--------------------+\n",
      "|Cust_ID|Cust_Desc  |Offers_Linked|Offer_ID|Cust_Desc_from_Offer|\n",
      "+-------+-----------+-------------+--------+--------------------+\n",
      "|100001 |L2,L20,L27 |1006         |1006    |L9,L2               |\n",
      "|100001 |L2,L20,L27 |1009         |1009    |L27,L2              |\n",
      "|100002 |L9,L30,L17 |1001         |1001    |L30,L25             |\n",
      "|100002 |L9,L30,L17 |1006         |1006    |L9,L2               |\n",
      "|100003 |L27,L3,L4  |1002         |1002    |L4,L16              |\n",
      "|100003 |L27,L3,L4  |1007         |1007    |L28,L4              |\n",
      "|100003 |L27,L3,L4  |1009         |1009    |L27,L2              |\n",
      "|100004 |L21,L26,L6 |1003         |1003    |L16,L26             |\n",
      "|100004 |L21,L26,L6 |1010         |1010    |L21                 |\n",
      "|100005 |L21,L17,L13|1010         |1010    |L21                 |\n",
      "|100006 |L8,L15,L3  |1004         |1004    |L15                 |\n",
      "|100006 |L8,L15,L3  |1008         |1008    |L8,L8               |\n",
      "|100007 |L16,L10,L5 |1002         |1002    |L4,L16              |\n",
      "|100007 |L16,L10,L5 |1003         |1003    |L16,L26             |\n",
      "|100008 |L3,L3,L9   |1006         |1006    |L9,L2               |\n",
      "|100009 |L28,L30,L22|1001         |1001    |L30,L25             |\n",
      "|100009 |L28,L30,L22|1007         |1007    |L28,L4              |\n",
      "|100010 |L17,L19,L29|1005         |1005    |L29,L29             |\n",
      "+-------+-----------+-------------+--------+--------------------+\n",
      "\n"
     ]
    }
   ],
   "source": [
    "tgtMapType.withColumn(\"Offers_Linked\", explode($\"Offers_Linked\"))\n",
    "    .join(offer, col(\"Offer_ID\") === col(\"Offers_Linked\"), \"inner\")\n",
    "    .orderBy(\"Cust_ID\", \"Offer_ID\").show(false)"
   ]
  },
  {
   "cell_type": "markdown",
   "metadata": {},
   "source": [
    "# 7. Some Performance"
   ]
  },
  {
   "cell_type": "code",
   "execution_count": 15,
   "metadata": {},
   "outputs": [
    {
     "data": {
      "text/plain": [
       "a = Set(2163, 8607, 645, 892, 69, 5385, 5810, 7375, 5659, 9929, 2199, 8062, 3021, 8536, 5437, 1322, 1665, 5509, 5686, 1036, 9982, 2822, 7304, 9131, 2630, 6085, 3873, 4188, 1586, 8618, 1501, 4201, 2452, 8960, 9405, 809, 7373, 8930, 4560, 7766, 4447, 3962, 1879, 5422, 1337, 1718, 2094, 6836, 5469, 9208, 3944, 1411, 7427, 5365, 6387, 629, 8186, 3883, 5116, 6405, 9458, 5561, 6979, 2612, 4094, 6167, 1024, 5918, 1469, 7272, 8398, 365, 5088, 9273, 2744, 1369, 4835, 138, 6669, 6355, 2889, 1823, 1190, 1168, 2295, 2306, 7890, 4571, 3053, 4101, 4450, 9786, 3345, 9653, 760, 4005, 5857, 4464, 9886, 2341, 101, 2336, 9077, 3008, 2109, 4824, 5593, 2131, 1454, 7854, 4909, 2031, 5136, 8154, 7973, 6530, 7569, 5896, 1633, 6231, 2778, 8288, 7691, ...\n"
      ]
     },
     "metadata": {},
     "output_type": "display_data"
    },
    {
     "data": {
      "text/plain": [
       "time: [R](block: => R)R\n"
      ]
     },
     "metadata": {},
     "output_type": "display_data"
    },
    {
     "data": {
      "text/plain": [
       "Set(2163, 8607, 645, 892, 69, 5385, 5810, 7375, 5659, 9929, 2199, 8062, 3021, 8536, 5437, 1322, 1665, 5509, 5686, 1036, 9982, 2822, 7304, 9131, 2630, 6085, 3873, 4188, 1586, 8618, 1501, 4201, 2452, 8960, 9405, 809, 7373, 8930, 4560, 7766, 4447, 3962, 1879, 5422, 1337, 1718, 2094, 6836, 5469, 9208, 3944, 1411, 7427, 5365, 6387, 629, 8186, 3883, 5116, 6405, 9458, 5561, 6979, 2612, 4094, 6167, 1024, 5918, 1469, 7272, 8398, 365, 5088, 9273, 2744, 1369, 4835, 138, 6669, 6355, 2889, 1823, 1190, 1168, 2295, 2306, 7890, 4571, 3053, 4101, 4450, 9786, 3345, 9653, 760, 4005, 5857, 4464, 9886, 2341, 101, 2336, 9077, 3008, 2109, 4824, 5593, 2131, 1454, 7854, 4909, 2031, 5136, 8154, 7973, 6530, 7569, 5896, 1633, 6231, 2778, 8288, 7691, ..."
      ]
     },
     "execution_count": 15,
     "metadata": {},
     "output_type": "execute_result"
    }
   ],
   "source": [
    "  def time[R](block: => R): R = {\n",
    "    val t0 = System.nanoTime()\n",
    "    val result = block    // call-by-name\n",
    "    val t1 = System.nanoTime()\n",
    "    println(\"Elapsed time: \" + (t1 - t0)/1e6 + \"ms\")\n",
    "    result\n",
    "  }\n",
    "\n",
    "val a = (0 until 10000 by 1).toSet   // smaller data\n",
    "val b = (0 until 1000000 by 1).toSet // bigger data"
   ]
  },
  {
   "cell_type": "code",
   "execution_count": 16,
   "metadata": {},
   "outputs": [
    {
     "name": "stdout",
     "output_type": "stream",
     "text": [
      "Elapsed time: 6.689314ms\n"
     ]
    },
    {
     "data": {
      "text/plain": [
       "<console>:45: error: missing argument list for method time\n",
       "Unapplied methods are only converted to functions when a function type is expected.\n",
       "You can make this conversion explicit by writing `time _` or `time(_)` instead of `time`.\n",
       "       time\n",
       "       ^\n",
       "lastException: Throwable = null\n"
      ]
     },
     "metadata": {},
     "output_type": "display_data"
    },
    {
     "data": {
      "text/plain": [
       "true"
      ]
     },
     "execution_count": 16,
     "metadata": {},
     "output_type": "execute_result"
    }
   ],
   "source": [
    "time { a.intersect(b).size > 0 }"
   ]
  },
  {
   "cell_type": "markdown",
   "metadata": {},
   "source": [
    "# 8. Performance Testing - Wildcard Filter"
   ]
  },
  {
   "cell_type": "code",
   "execution_count": 17,
   "metadata": {},
   "outputs": [
    {
     "name": "stdout",
     "output_type": "stream",
     "text": [
      "** Used Memory:  362\n",
      "** Free Memory:  325\n",
      "** Total Memory: 688\n",
      "** Max Memory:   910\n"
     ]
    },
    {
     "data": {
      "text/plain": [
       "customerP = [Cust_ID: int, Cust_Desc: string]\n",
       "offerP = [Offer_ID: int, Cust_Desc_from_Offer: string]\n",
       "mb = 1048576\n",
       "runtime = java.lang.Runtime@5451b697\n"
      ]
     },
     "metadata": {},
     "output_type": "display_data"
    },
    {
     "data": {
      "text/plain": [
       "java.lang.Runtime@5451b697"
      ]
     },
     "execution_count": 17,
     "metadata": {},
     "output_type": "execute_result"
    }
   ],
   "source": [
    "// The customer table with 100,000 customers. \n",
    "val customerP = table_gen.random_table(100000, custColSchema, custColMap).cache\n",
    "// The Offer table with 500 offers.\n",
    "val offerP = table_gen.random_table(500, offerColSchema, offerColMap).cache\n",
    "\n",
    "// memory info\n",
    "val mb = 1024*1024\n",
    "val runtime = Runtime.getRuntime\n",
    "println(\"** Used Memory:  \" + (runtime.totalMemory - runtime.freeMemory) / mb)\n",
    "println(\"** Free Memory:  \" + runtime.freeMemory / mb)\n",
    "println(\"** Total Memory: \" + runtime.totalMemory / mb)\n",
    "println(\"** Max Memory:   \" + runtime.maxMemory / mb)"
   ]
  },
  {
   "cell_type": "code",
   "execution_count": 18,
   "metadata": {},
   "outputs": [
    {
     "name": "stdout",
     "output_type": "stream",
     "text": [
      "Elapsed time: 42566.034779ms\n"
     ]
    },
    {
     "data": {
      "text/plain": [
       "10443105"
      ]
     },
     "execution_count": 18,
     "metadata": {},
     "output_type": "execute_result"
    }
   ],
   "source": [
    "time {\n",
    "    customerP.crossJoin(offerP)\n",
    "    .where(custDescIntersectWildcard($\"Cust_Desc\", $\"Cust_Desc_from_Offer\"))\n",
    "    .select($\"Cust_ID\", $\"Offer_ID\", $\"Cust_Desc\", $\"Cust_Desc_from_Offer\")\n",
    "    .orderBy($\"Cust_ID\", $\"Offer_ID\")\n",
    "    .count\n",
    "}"
   ]
  },
  {
   "cell_type": "markdown",
   "metadata": {},
   "source": [
    "# 9. Performance Testing - ArrayType Filter"
   ]
  },
  {
   "cell_type": "code",
   "execution_count": 19,
   "metadata": {},
   "outputs": [
    {
     "name": "stdout",
     "output_type": "stream",
     "text": [
      "Elapsed time: 74927.646875ms\n"
     ]
    },
    {
     "data": {
      "text/plain": [
       "10443105"
      ]
     },
     "execution_count": 19,
     "metadata": {},
     "output_type": "execute_result"
    }
   ],
   "source": [
    "// Sleep for 5 seconds before executing the next command\n",
    "Thread.sleep(5000)\n",
    "\n",
    "// The Filtered table\n",
    "time { customerP\n",
    "      .withColumn(\"Cust_Desc_Array\", split(col(\"Cust_Desc\"), \"\\\\,\"))\n",
    "      .crossJoin(offerP.withColumn(\"Cust_Desc_Offer_Array\",\n",
    "                                  split(col(\"Cust_Desc_from_Offer\"), \"\\\\,\")))\n",
    "      .where(custDescIntersect($\"Cust_Desc_Array\", $\"Cust_Desc_Offer_Array\"))\n",
    "      .select($\"Cust_ID\", $\"Offer_ID\", $\"Cust_Desc\", $\"Cust_Desc_from_Offer\")\n",
    "      .orderBy($\"Cust_ID\", $\"Offer_ID\")\n",
    "      .count }"
   ]
  },
  {
   "cell_type": "markdown",
   "metadata": {},
   "source": [
    "# 10. Performance Testing - MapType Filter"
   ]
  },
  {
   "cell_type": "code",
   "execution_count": 20,
   "metadata": {},
   "outputs": [
    {
     "data": {
      "text/plain": [
       "allOfferP = Array(1088, 1238, 1342, 1025, 1084, 1127, 1395, 1460, 1483, 1139, 1143, 1270, 1303, 1322, 1339, 1352, 1265, 1223, 1157, 1466, 1005, 1016, 1133, 1160, 1199, 1212, 1417, 1468, 1331, 1068, 1198, 1344, 1404, 1165, 1183, 1378, 1500, 1226, 1259, 1031, 1175, 1201, 1426, 1441, 1496, 1051, 1243, 1274, 1296, 1415, 1030, 1034, 1064, 1156, 1163, 1489, 1276, 1307, 1372, 1480, 1235, 1493, 1019, 1269, 1294, 1135, 1350, 1418, 1148, 1210, 1280, 1363, 1056, 1085, 1398, 1046, 1093, 1260, 1208, 1077, 1215, 1290, 1457, 1249, 1324, 1065, 1125, 1295, 1332, 1469, 1176, 1291, 1061, 1197, 1207, 1456, 1477, 1055, 1244, 1300, 1425, 1114, 1206, 1288, 1306, 1311, 1170, 1266, 1382, 1122, 1145, 1247, 1304, 1488, 1491, 1008, 1172, 1391, 1302, 1485, 1047, 1190, 1400, 1427, 1458, 1434, 1473, 11...\n"
      ]
     },
     "metadata": {},
     "output_type": "display_data"
    },
    {
     "data": {
      "text/plain": [
       "Array(1088, 1238, 1342, 1025, 1084, 1127, 1395, 1460, 1483, 1139, 1143, 1270, 1303, 1322, 1339, 1352, 1265, 1223, 1157, 1466, 1005, 1016, 1133, 1160, 1199, 1212, 1417, 1468, 1331, 1068, 1198, 1344, 1404, 1165, 1183, 1378, 1500, 1226, 1259, 1031, 1175, 1201, 1426, 1441, 1496, 1051, 1243, 1274, 1296, 1415, 1030, 1034, 1064, 1156, 1163, 1489, 1276, 1307, 1372, 1480, 1235, 1493, 1019, 1269, 1294, 1135, 1350, 1418, 1148, 1210, 1280, 1363, 1056, 1085, 1398, 1046, 1093, 1260, 1208, 1077, 1215, 1290, 1457, 1249, 1324, 1065, 1125, 1295, 1332, 1469, 1176, 1291, 1061, 1197, 1207, 1456, 1477, 1055, 1244, 1300, 1425, 1114, 1206, 1288, 1306, 1311, 1170, 1266, 1382, 1122, 1145, 1247, 1304, 1488, 1491, 1008, 1172, 1391, 1302, 1485, 1047, 1190, 1400, 1427, 1458, 1434, 1473, 11..."
      ]
     },
     "execution_count": 20,
     "metadata": {},
     "output_type": "execute_result"
    }
   ],
   "source": [
    "// Sleep for 5 seconds before executing the next command\n",
    "Thread.sleep(5000)\n",
    "\n",
    "// Obtain all offers\n",
    "val allOfferP: Array[String] = offerP.select(\"Offer_ID\").distinct.collect\n",
    "    .map(x => x.toString.drop(1).dropRight(1))\n",
    "\n",
    "// Declare list offer map\n",
    "var offerListMapP = Map(\"\" -> allOfferP)\n",
    "\n",
    "// Find all list offer map\n",
    "for (lx <- descList) {\n",
    "    var LxOffer: Array[String] = offerP\n",
    "        .withColumn(\"Cust_Desc_Offer_Array\",\n",
    "                    split(col(\"Cust_Desc_from_Offer\"), \"\\\\,\"))\n",
    "        .where(array_contains(col(\"Cust_Desc_Offer_Array\"), lx))\n",
    "        .select($\"Offer_ID\")\n",
    "        .collect.toSeq.toArray.map(x => x.toString.drop(1).dropRight(1))\n",
    "    offerListMapP += (lx -> LxOffer)\n",
    "}"
   ]
  },
  {
   "cell_type": "code",
   "execution_count": 21,
   "metadata": {},
   "outputs": [
    {
     "name": "stdout",
     "output_type": "stream",
     "text": [
      "Elapsed time: 12167.463194ms\n"
     ]
    },
    {
     "data": {
      "text/plain": [
       "10443105"
      ]
     },
     "execution_count": 21,
     "metadata": {},
     "output_type": "execute_result"
    }
   ],
   "source": [
    "time { customerP.select(\n",
    "    $\"Cust_ID\", \n",
    "    $\"Cust_Desc\", \n",
    "    listOfferMap(offerListMapP)($\"Cust_Desc\") as \"Offers_Linked\")\n",
    "      .withColumn(\"Offers_Linked\", explode($\"Offers_Linked\"))\n",
    "      .join(offerP, col(\"Offer_ID\") === col(\"Offers_Linked\"), \"inner\")\n",
    "      .select($\"Cust_ID\", $\"Offer_ID\", $\"Cust_Desc\", $\"Cust_Desc_from_Offer\")\n",
    "      .orderBy(\"Cust_ID\", \"Offer_ID\")\n",
    "      .count\n",
    "}"
   ]
  },
  {
   "cell_type": "markdown",
   "metadata": {},
   "source": [
    "# 11. SQL Wildcard vs Scala Contains"
   ]
  },
  {
   "cell_type": "code",
   "execution_count": 22,
   "metadata": {},
   "outputs": [
    {
     "data": {
      "text/plain": [
       "custColSchemaW = Array(StructField(Cust_ID,IntegerType,true), StructField(Cust_Desc,StringType,true))\n",
       "custColMapW = > org.apache.spark.sql.Row = <function1>\n",
       "offerColSchemaW = Array(StructField(Offer_ID,IntegerType,true), StructField(Cust_Desc_from_Offer,StringType,true))\n",
       "offerColMapW = > org.apache.spark.sql.Row = <function1>\n",
       "customerW = [Cust_ID: int, Cust_Desc: string]\n",
       "offerW = [Offer_ID: int, Cust_Desc_from_Offer: string]\n"
      ]
     },
     "metadata": {},
     "output_type": "display_data"
    },
    {
     "data": {
      "text/plain": [
       "[Offer_ID: int, Cust_Desc_from_Offer: string]"
      ]
     },
     "execution_count": 22,
     "metadata": {},
     "output_type": "execute_result"
    }
   ],
   "source": [
    "// Sleep for 5 seconds before executing the next command\n",
    "Thread.sleep(5000)\n",
    "\n",
    "// Uncache the performance testing tables.\n",
    "customerP.unpersist()\n",
    "offerP.unpersist()\n",
    "\n",
    "// Column schema for the customer table.\n",
    "val custColSchemaW = Array(\n",
    "    StructField(\"Cust_ID\", IntegerType, true),\n",
    "    StructField(\"Cust_Desc\", StringType, true))\n",
    "\n",
    "// Column mapping for the customer table.\n",
    "// Can have up to 30 lists\n",
    "val custColMapW = (x: Int) => Row(\n",
    "    100000 + x,\n",
    "    table_gen.random_array_to_string(rand, descList, 0, 10))\n",
    "\n",
    "// Offer schema for the offer table.\n",
    "val offerColSchemaW = Array(\n",
    "    StructField(\"Offer_ID\", IntegerType, true),\n",
    "    StructField(\"Cust_Desc_from_Offer\", StringType, true))\n",
    "\n",
    "// Offer mapping for the offer table.\n",
    "// Each offer can only be of one list.\n",
    "val offerColMapW = (x: Int) => Row(\n",
    "    1000 + x,\n",
    "    table_gen.random_array_to_string(rand, descList, 1, 1))\n",
    "\n",
    "// The customer table with 100,000 customers. \n",
    "val customerW = table_gen.random_table(100000, custColSchemaW, custColMapW).cache\n",
    "// The Offer table with 1000 offers.\n",
    "val offerW = table_gen.random_table(1000, offerColSchemaW, offerColMapW).cache"
   ]
  },
  {
   "cell_type": "code",
   "execution_count": 23,
   "metadata": {},
   "outputs": [
    {
     "name": "stdout",
     "output_type": "stream",
     "text": [
      "Elapsed time: 61339.6458ms\n"
     ]
    },
    {
     "data": {
      "text/plain": [
       "28342849"
      ]
     },
     "execution_count": 23,
     "metadata": {},
     "output_type": "execute_result"
    }
   ],
   "source": [
    "// Sleep for 5 seconds before executing the next command\n",
    "Thread.sleep(5000)\n",
    "\n",
    "time {\n",
    "    customerW.crossJoin(offerW)\n",
    "    .where(custDescIntersectWildcard($\"Cust_Desc\", $\"Cust_Desc_from_Offer\"))\n",
    "    .select($\"Cust_ID\", $\"Offer_ID\", $\"Cust_Desc\", $\"Cust_Desc_from_Offer\")\n",
    "    .orderBy($\"Cust_ID\", $\"Offer_ID\")\n",
    "    .count\n",
    "}"
   ]
  },
  {
   "cell_type": "code",
   "execution_count": 24,
   "metadata": {
    "scrolled": false
   },
   "outputs": [
    {
     "name": "stdout",
     "output_type": "stream",
     "text": [
      "Elapsed time: 214425.422902ms\n"
     ]
    },
    {
     "data": {
      "text/plain": [
       "wildcardSQL = \n"
      ]
     },
     "metadata": {},
     "output_type": "display_data"
    },
    {
     "data": {
      "text/plain": [
       "\"\n",
       "    SELECT\n",
       "        C.Cust_ID,\n",
       "        C.Cust_Desc,\n",
       "        O.Offer_ID,\n",
       "        O.Cust_Desc_from_Offer\n",
       "    FROM\n",
       "        customer C\n",
       "    CROSS JOIN\n",
       "        offer O\n",
       "    WHERE\n",
       "        concat(',', upper(nvl(C.Cust_Desc, '')), ',') LIKE\n",
       "            concat('%,', upper(nvl(O.Cust_Desc_from_Offer, '')), ',%') OR\n",
       "        C.Cust_Desc = ''\n",
       "    ORDER BY\n",
       "        C.Cust_ID,\n",
       "        O.Offer_ID\"\n"
      ]
     },
     "metadata": {},
     "output_type": "display_data"
    },
    {
     "data": {
      "text/plain": [
       "28342849"
      ]
     },
     "execution_count": 24,
     "metadata": {},
     "output_type": "execute_result"
    }
   ],
   "source": [
    "// Sleep for 5 seconds before executing the next command\n",
    "Thread.sleep(5000)\n",
    "\n",
    "customerW.createOrReplaceTempView(\"customer\")\n",
    "offerW.createOrReplaceTempView(\"offer\")\n",
    "\n",
    "val wildcardSQL = \"\"\"\n",
    "    SELECT\n",
    "        C.Cust_ID,\n",
    "        C.Cust_Desc,\n",
    "        O.Offer_ID,\n",
    "        O.Cust_Desc_from_Offer\n",
    "    FROM\n",
    "        customer C\n",
    "    CROSS JOIN\n",
    "        offer O\n",
    "    WHERE\n",
    "        concat(',', upper(nvl(C.Cust_Desc, '')), ',') LIKE\n",
    "            concat('%,', upper(nvl(O.Cust_Desc_from_Offer, '')), ',%') OR\n",
    "        C.Cust_Desc = ''\n",
    "    ORDER BY\n",
    "        C.Cust_ID,\n",
    "        O.Offer_ID\"\"\"\n",
    "\n",
    "time {\n",
    "    spark.sql(wildcardSQL).count\n",
    "}"
   ]
  },
  {
   "cell_type": "markdown",
   "metadata": {},
   "source": [
    "# 12. Conclusion\n",
    "\n",
    "In the first part of our performance analysis, we can see that `MapType Filter` has the best performance in the filtering operation of interest. However, it should be noted that it is possible for `MapType Filter` to cause `OutOfMemoryError` against large data, which should be carefully assessed.\n",
    "\n",
    "In the second part of the analysis, we compared filtering performance between `SQL wildcards filter` and `Scala Array contains`. The result shows that `Scala Array contains` is much faster than its counter part."
   ]
  }
 ],
 "metadata": {
  "kernelspec": {
   "display_name": "Apache Toree - Scala",
   "language": "scala",
   "name": "apache_toree_scala"
  },
  "language_info": {
   "codemirror_mode": "text/x-scala",
   "file_extension": ".scala",
   "mimetype": "text/x-scala",
   "name": "scala",
   "pygments_lexer": "scala",
   "version": "2.11.12"
  }
 },
 "nbformat": 4,
 "nbformat_minor": 2
}
